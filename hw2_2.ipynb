{
 "cells": [
  {
   "cell_type": "markdown",
   "id": "55120ace",
   "metadata": {},
   "source": [
    "# CS289 HW2 (Jiajie Zhang 2023.11.22)"
   ]
  },
  {
   "cell_type": "code",
   "execution_count": 2,
   "id": "dab0f641",
   "metadata": {},
   "outputs": [],
   "source": [
    "try:\n",
    "    from google.colab import output\n",
    "    print('Running on CoLab')\n",
    "    output.enable_custom_widget_manager()\n",
    "    !pip install ipympl\n",
    "    !pip install roboticstoolbox-python>=1.0.2\n",
    "    !pip install --no-deps rvc3python\n",
    "    COLAB = True\n",
    "except ModuleNotFoundError:\n",
    "    COLAB = False\n",
    "\n",
    "from IPython.core.interactiveshell import InteractiveShell\n",
    "InteractiveShell.ast_node_interactivity = \"last_expr_or_assign\"\n",
    "from IPython.display import HTML\n",
    "from numpy import sqrt\n",
    "%matplotlib widget\n",
    "import matplotlib.pyplot as plt\n",
    "\n",
    "# add RTB examples folder to the path\n",
    "import sys, os.path\n",
    "import RVC3 as rvc\n",
    "sys.path.append(os.path.join(rvc.__path__[0], 'models'))\n",
    "\n",
    "# helper function to run bdsim in a subprocess and transfer results using a pickle file\n",
    "import pickle\n",
    "def run_shell(tool, **params):\n",
    "    global out\n",
    "    pyfile = os.path.join(rvc.__path__[0], \"models\", tool+\".py\")\n",
    "    cmd = f\"python {pyfile} -H +a -o\"\n",
    "    for key, value in params.items():\n",
    "        cmd += f' --global \"{key}={value}\"'\n",
    "    print(cmd)\n",
    "    os.system(cmd)\n",
    "    with open(\"bd.out\", \"rb\") as f:\n",
    "        out = pickle.load(f)\n",
    "        \n",
    "# ------ standard imports ------ #\n",
    "import numpy as np\n",
    "from scipy import optimize\n",
    "import math\n",
    "from math import pi\n",
    "np.set_printoptions(\n",
    "    linewidth=120, formatter={\n",
    "        'float': lambda x: f\"{0:8.4g}\" if abs(x) < 1e-10 else f\"{x:8.4g}\"})\n",
    "np.random.seed(0)\n",
    "from spatialmath import *\n",
    "from spatialmath.base import *\n",
    "from roboticstoolbox import *"
   ]
  },
  {
   "cell_type": "markdown",
   "id": "5e29da79",
   "metadata": {},
   "source": [
    "## Problem2.1"
   ]
  },
  {
   "cell_type": "code",
   "execution_count": 3,
   "id": "365a28c7",
   "metadata": {},
   "outputs": [
    {
     "name": "stdout",
     "output_type": "stream",
     "text": [
      "tx(2) ⊕ R(q0) ⊕ tx(2.828) ⊕ R(q1) ⊕ tx(2)\n"
     ]
    },
    {
     "data": {
      "text/plain": []
     },
     "execution_count": 3,
     "metadata": {},
     "output_type": "execute_result"
    }
   ],
   "source": [
    "a1 = 2; a2 = 2 * sqrt(2); a3 = 2;\n",
    "e = ET2.tx(a1) * ET2.R() * ET2.tx(a2) * ET2.R() * ET2.tx(a3)"
   ]
  },
  {
   "cell_type": "code",
   "execution_count": 4,
   "id": "31eefb17",
   "metadata": {},
   "outputs": [
    {
     "data": {
      "application/vnd.jupyter.widget-view+json": {
       "model_id": "497e5e0ab2c844b39607fd878dc0dab2",
       "version_major": 2,
       "version_minor": 0
      },
      "image/png": "[encoded data removed]",
      "text/html": [
       "\n",
       "            <div style=\"display: inline-block;\">\n",
       "                <div class=\"jupyter-widgets widget-label\" style=\"text-align: center;\">\n",
       "                    Robotics Toolbox for Python (Figure 1)\n",
       "                </div>\n",
       "                <img src='data:image/png;base64,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' width=640.0/>\n",
       "            </div>\n",
       "        "
      ],
      "text/plain": [
       "Canvas(toolbar=Toolbar(toolitems=[('Home', 'Reset original view', 'home', 'home'), ('Back', 'Back to previous …"
      ]
     },
     "metadata": {},
     "output_type": "display_data"
    }
   ],
   "source": [
    "e.plot(np.deg2rad([-135,135]));"
   ]
  },
  {
   "cell_type": "markdown",
   "id": "638b4291",
   "metadata": {},
   "source": [
    "## Problem2.2"
   ]
  },
  {
   "cell_type": "code",
   "execution_count": 5,
   "id": "831a7877",
   "metadata": {},
   "outputs": [],
   "source": [
    "robot = ERobot2([\n",
    "  Link2(ET2.R(), name=\"link1\"),\n",
    "  Link2(ET2.tx(1) * ET2.tx(1.2) * ET2.ty(-0.5) * ET2.R(), name=\"link2\", parent=\"link1\"),\n",
    "  Link2(ET2.tx(1), name=\"ee_1\", parent=\"link2\"),\n",
    "  Link2(ET2.tx(1) * ET2.tx(0.6) * ET2.ty(0.5) * ET2.R(), name=\"link3\", parent=\"link1\"),\n",
    "  Link2(ET2.tx(1) * ET2.tx(2.4) * ET2.ty(1.0) * ET2.R(), name = \"link4\", parent=\"link3\"),\n",
    "  Link2(ET2.tx(1) * ET2.tx(3.6) * ET2.ty(1.5) * ET2.R(), name = \"link5\", parent=\"link4\"),\n",
    "  Link2(ET2.tx(1) * ET2.tx(4.8) * ET2.ty(2.0) * ET2.R(), name = \"link6\", parent=\"link5\"),\n",
    "  Link2(ET2.tx(1), name=\"ee_2\", parent=\"link6\") ], name=\"branched\");"
   ]
  },
  {
   "cell_type": "code",
   "execution_count": 6,
   "id": "71d7a398",
   "metadata": {},
   "outputs": [
    {
     "data": {
      "text/plain": [
       "ERobot: , 6 joints (RRRRRR)\n",
       "┌─────┬────────┬───────┬────────┬─────────────────────┐\n",
       "│link │  link  │ joint │ parent │ ETS: parent to link │\n",
       "├─────┼────────┼───────┼────────┼─────────────────────┤\n",
       "│   0\u001b[0m │ link0\u001b[0m  │     0\u001b[0m │ BASE\u001b[0m   │ Rz(q0)\u001b[0m              │\n",
       "│   1\u001b[0m │ link1\u001b[0m  │     1\u001b[0m │ link0\u001b[0m  │ Ry(q1)\u001b[0m              │\n",
       "│   2\u001b[0m │ link2\u001b[0m  │     2\u001b[0m │ link1\u001b[0m  │ tz(1) ⊕ Ry(q2)\u001b[0m      │\n",
       "│   3\u001b[0m │ link3\u001b[0m  │     3\u001b[0m │ link2\u001b[0m  │ tz(1) ⊕ Rz(q3)\u001b[0m      │\n",
       "│   4\u001b[0m │ link4\u001b[0m  │     4\u001b[0m │ link3\u001b[0m  │ Ry(q4)\u001b[0m              │\n",
       "│   5\u001b[0m │ @link5\u001b[0m │     5\u001b[0m │ link4\u001b[0m  │ Rz(q5)\u001b[0m              │\n",
       "└─────┴────────┴───────┴────────┴─────────────────────┘"
      ]
     },
     "execution_count": 6,
     "metadata": {},
     "output_type": "execute_result"
    }
   ],
   "source": [
    "a1 = 1; a2 = 1;\n",
    "robot6 = ERobot(ET.Rz() * ET.Ry()\\\n",
    "                * ET.tz(a1) * ET.Ry() * ET.tz(a2)\\\n",
    "                * ET.Rz() * ET.Ry() * ET.Rz())"
   ]
  },
  {
   "cell_type": "code",
   "execution_count": 7,
   "id": "fd19d756",
   "metadata": {},
   "outputs": [
    {
     "data": {
      "text/plain": [
       "[Link(\"\", tx(1) ⊕ Ry(q))]"
      ]
     },
     "execution_count": 7,
     "metadata": {},
     "output_type": "execute_result"
    }
   ],
   "source": [
    "branch1_links = [Link(ET.tx(1) * ET.Ry())]"
   ]
  },
  {
   "cell_type": "markdown",
   "id": "147cb6d8",
   "metadata": {},
   "source": [
    "# 验证1-1"
   ]
  },
  {
   "cell_type": "code",
   "execution_count": 17,
   "id": "3c8c334c",
   "metadata": {},
   "outputs": [],
   "source": [
    "import sympy"
   ]
  },
  {
   "cell_type": "code",
   "execution_count": 18,
   "id": "b3e75edf",
   "metadata": {},
   "outputs": [],
   "source": [
    "a1, a2 = sympy.symbols(\"a1, a2\")"
   ]
  },
  {
   "cell_type": "code",
   "execution_count": 19,
   "id": "9a3d9611",
   "metadata": {},
   "outputs": [
    {
     "name": "stdout",
     "output_type": "stream",
     "text": [
      "R(q0) ⊕ tx(a1) ⊕ R(q1) ⊕ tx(a2)\n"
     ]
    },
    {
     "data": {
      "text/plain": []
     },
     "execution_count": 19,
     "metadata": {},
     "output_type": "execute_result"
    }
   ],
   "source": [
    "e = ET2.R() * ET2.tx(a1) * ET2.R() * ET2.tx(a2)"
   ]
  },
  {
   "cell_type": "code",
   "execution_count": 20,
   "id": "b3b0c23c",
   "metadata": {},
   "outputs": [],
   "source": [
    "q0 ,q1 = sympy.symbols(\"q0 q1\")"
   ]
  },
  {
   "cell_type": "code",
   "execution_count": 21,
   "id": "2ef52033",
   "metadata": {},
   "outputs": [
    {
     "data": {
      "text/plain": [
       "  \u001b[38;5;1mcos(q0 + q1)\u001b[0m \u001b[38;5;1m-sin(q0 + q1)\u001b[0m \u001b[38;5;4ma1*cos(q0) + a2*cos(q0 + q1)\u001b[0m  \u001b[0m\n",
       "  \u001b[38;5;1msin(q0 + q1)\u001b[0m \u001b[38;5;1mcos(q0 + q1)\u001b[0m \u001b[38;5;4ma1*sin(q0) + a2*sin(q0 + q1)\u001b[0m  \u001b[0m\n",
       "  \u001b[38;5;244m0           \u001b[0m \u001b[38;5;244m0           \u001b[0m \u001b[38;5;244m1           \u001b[0m  \u001b[0m\n"
      ]
     },
     "execution_count": 21,
     "metadata": {},
     "output_type": "execute_result"
    }
   ],
   "source": [
    "TE = e.fkine([q0, q1])"
   ]
  },
  {
   "cell_type": "code",
   "execution_count": null,
   "id": "e0564d79",
   "metadata": {},
   "outputs": [],
   "source": []
  }
 ],
 "metadata": {
  "kernelspec": {
   "display_name": "Python 3 (ipykernel)",
   "language": "python",
   "name": "python3"
  },
  "language_info": {
   "codemirror_mode": {
    "name": "ipython",
    "version": 3
   },
   "file_extension": ".py",
   "mimetype": "text/x-python",
   "name": "python",
   "nbconvert_exporter": "python",
   "pygments_lexer": "ipython3",
   "version": "3.9.18"
  }
 },
 "nbformat": 4,
 "nbformat_minor": 5
}
