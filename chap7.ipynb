{
 "cells": [
  {
   "cell_type": "markdown",
   "id": "df27d777",
   "metadata": {},
   "source": [
    "# Robotics, Vision & Control 3e: for Python\n",
    "## Chapter 7: Robot Arm Kinematics\n",
    "\n",
    "Copyright (c) 2021- Peter Corke"
   ]
  },
  {
   "cell_type": "code",
   "execution_count": 1,
   "id": "9836bfc3",
   "metadata": {},
   "outputs": [],
   "source": [
    "try:\n",
    "    from google.colab import output\n",
    "    print('Running on CoLab')\n",
    "    output.enable_custom_widget_manager()\n",
    "    !pip install ipympl\n",
    "    !pip install roboticstoolbox-python>=1.0.2\n",
    "    !pip install --no-deps rvc3python\n",
    "    COLAB = True\n",
    "except ModuleNotFoundError:\n",
    "    COLAB = False\n",
    "\n",
    "from IPython.core.interactiveshell import InteractiveShell\n",
    "InteractiveShell.ast_node_interactivity = \"last_expr_or_assign\"\n",
    "from IPython.display import HTML\n",
    "\n",
    "%matplotlib widget\n",
    "import matplotlib.pyplot as plt\n",
    "\n",
    "# add RTB examples folder to the path\n",
    "import sys, os.path\n",
    "import RVC3 as rvc\n",
    "sys.path.append(os.path.join(rvc.__path__[0], 'models'))\n",
    "\n",
    "# helper function to run bdsim in a subprocess and transfer results using a pickle file\n",
    "import pickle\n",
    "def run_shell(tool, **params):\n",
    "    global out\n",
    "    pyfile = os.path.join(rvc.__path__[0], \"models\", tool+\".py\")\n",
    "    cmd = f\"python {pyfile} -H +a -o\"\n",
    "    for key, value in params.items():\n",
    "        cmd += f' --global \"{key}={value}\"'\n",
    "    print(cmd)\n",
    "    os.system(cmd)\n",
    "    with open(\"bd.out\", \"rb\") as f:\n",
    "        out = pickle.load(f)\n",
    "        \n",
    "# ------ standard imports ------ #\n",
    "import numpy as np\n",
    "from scipy import optimize\n",
    "import math\n",
    "from math import pi\n",
    "np.set_printoptions(\n",
    "    linewidth=120, formatter={\n",
    "        'float': lambda x: f\"{0:8.4g}\" if abs(x) < 1e-10 else f\"{x:8.4g}\"})\n",
    "np.random.seed(0)\n",
    "from spatialmath import *\n",
    "from spatialmath.base import *\n",
    "from roboticstoolbox import *"
   ]
  },
  {
   "cell_type": "markdown",
   "id": "73955b81",
   "metadata": {},
   "source": [
    "# 7.1 Forward Kinematics\n"
   ]
  },
  {
   "cell_type": "markdown",
   "id": "3f91f95d",
   "metadata": {},
   "source": [
    "## 7.1.1 Forward kinematics from a pose graph\n"
   ]
  },
  {
   "cell_type": "markdown",
   "id": "ceb43952",
   "metadata": {},
   "source": [
    "### 7.1.1.1 2-Dimensional (Planar) Robotic Arms\n"
   ]
  },
  {
   "cell_type": "code",
   "execution_count": 2,
   "id": "9c6da426",
   "metadata": {},
   "outputs": [],
   "source": [
    "# ETS stands for: Elementary transformation sequence, ET2 is for the 2-dimensional case\n",
    "a1 = 1;\n",
    "e = ET2.R() * ET2.tx(a1);"
   ]
  },
  {
   "cell_type": "code",
   "execution_count": 3,
   "id": "a863cc1a",
   "metadata": {},
   "outputs": [
    {
     "data": {
      "text/plain": [
       "2"
      ]
     },
     "execution_count": 3,
     "metadata": {},
     "output_type": "execute_result"
    }
   ],
   "source": [
    "len(e)"
   ]
  },
  {
   "cell_type": "code",
   "execution_count": 4,
   "id": "833d969c",
   "metadata": {},
   "outputs": [
    {
     "name": "stdout",
     "output_type": "stream",
     "text": [
      "R(q) ⊕ tx(1)\n"
     ]
    },
    {
     "data": {
      "text/plain": []
     },
     "execution_count": 4,
     "metadata": {},
     "output_type": "execute_result"
    }
   ],
   "source": [
    "e"
   ]
  },
  {
   "cell_type": "code",
   "execution_count": 5,
   "id": "e5da4d1d",
   "metadata": {},
   "outputs": [
    {
     "data": {
      "text/plain": [
       "  \u001b[38;5;1m 0.866   \u001b[0m \u001b[38;5;1m-0.5     \u001b[0m \u001b[38;5;4m 0.866   \u001b[0m  \u001b[0m\n",
       "  \u001b[38;5;1m 0.5     \u001b[0m \u001b[38;5;1m 0.866   \u001b[0m \u001b[38;5;4m 0.5     \u001b[0m  \u001b[0m\n",
       "  \u001b[38;5;244m 0       \u001b[0m \u001b[38;5;244m 0       \u001b[0m \u001b[38;5;244m 1       \u001b[0m  \u001b[0m\n"
      ]
     },
     "execution_count": 5,
     "metadata": {},
     "output_type": "execute_result"
    }
   ],
   "source": [
    "# for a particular value of the joint variable\n",
    "e.fkine(pi / 6)"
   ]
  },
  {
   "cell_type": "code",
   "execution_count": 6,
   "id": "6564bc09",
   "metadata": {},
   "outputs": [
    {
     "data": {
      "text/plain": [
       "  \u001b[38;5;1m 0.866   \u001b[0m \u001b[38;5;1m-0.5     \u001b[0m \u001b[38;5;4m 0.866   \u001b[0m  \u001b[0m\n",
       "  \u001b[38;5;1m 0.5     \u001b[0m \u001b[38;5;1m 0.866   \u001b[0m \u001b[38;5;4m 0.5     \u001b[0m  \u001b[0m\n",
       "  \u001b[38;5;244m 0       \u001b[0m \u001b[38;5;244m 0       \u001b[0m \u001b[38;5;244m 1       \u001b[0m  \u001b[0m\n"
      ]
     },
     "execution_count": 6,
     "metadata": {},
     "output_type": "execute_result"
    }
   ],
   "source": [
    "# equal to the former one\n",
    "SE2.Rot(pi / 6) * SE2.Tx(a1)"
   ]
  },
  {
   "cell_type": "code",
   "execution_count": 7,
   "id": "caab97dd",
   "metadata": {},
   "outputs": [
    {
     "data": {
      "application/vnd.jupyter.widget-view+json": {
       "model_id": "dc9f1fdb12174210a17711ca2cf3d620",
       "version_major": 2,
       "version_minor": 0
      },
      "image/png": "[encoded data removed]",
      "text/html": [
       "\n",
       "            <div style=\"display: inline-block;\">\n",
       "                <div class=\"jupyter-widgets widget-label\" style=\"text-align: center;\">\n",
       "                    Robotics Toolbox for Python (Figure 1)\n",
       "                </div>\n",
       "                <img src='data:image/png;base64,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' width=640.0/>\n",
       "            </div>\n",
       "        "
      ],
      "text/plain": [
       "Canvas(toolbar=Toolbar(toolitems=[('Home', 'Reset original view', 'home', 'home'), ('Back', 'Back to previous …"
      ]
     },
     "metadata": {},
     "output_type": "display_data"
    }
   ],
   "source": [
    "# e.teach(0)  # not working in Jupyter\n",
    "e.plot(0)"
   ]
  },
  {
   "cell_type": "code",
   "execution_count": 23,
   "id": "472b977f",
   "metadata": {},
   "outputs": [],
   "source": [
    "# consider a robot has two revolute joints q_0 and q_1\n",
    "a1 = 1; a2 = 2;\n",
    "e = ET2.R() * ET2.tx(a1) * ET2.R() * ET2.tx(a2);"
   ]
  },
  {
   "cell_type": "code",
   "execution_count": 24,
   "id": "69abd7f6",
   "metadata": {},
   "outputs": [
    {
     "name": "stdout",
     "output_type": "stream",
     "text": [
      "R(q0) ⊕ tx(1) ⊕ R(q1) ⊕ tx(2)\n"
     ]
    },
    {
     "data": {
      "text/plain": []
     },
     "execution_count": 24,
     "metadata": {},
     "output_type": "execute_result"
    }
   ],
   "source": [
    "e"
   ]
  },
  {
   "cell_type": "code",
   "execution_count": 25,
   "id": "b8291d6b",
   "metadata": {},
   "outputs": [
    {
     "name": "stdout",
     "output_type": "stream",
     "text": [
      "t = 1.87, 2.23; 60°\n"
     ]
    }
   ],
   "source": [
    "# evaluate this expression for specific joint angles, get the result of the end-effector pose when q_0=30 and q_1=40\n",
    "e.fkine(np.deg2rad([30, 30])).printline()"
   ]
  },
  {
   "cell_type": "code",
   "execution_count": 26,
   "id": "7de0a0e9",
   "metadata": {},
   "outputs": [
    {
     "name": "stdout",
     "output_type": "stream",
     "text": [
      "t = 1.87, 2.23; 60°\n"
     ]
    }
   ],
   "source": [
    "T = SE2.Rot(np.deg2rad(30)) * SE2.Tx(a1) * SE2.Rot(np.deg2rad(30)) * SE2.Tx(a2);\n",
    "T.printline()"
   ]
  },
  {
   "cell_type": "code",
   "execution_count": 27,
   "id": "1d522933",
   "metadata": {},
   "outputs": [
    {
     "data": {
      "text/plain": [
       "2"
      ]
     },
     "execution_count": 27,
     "metadata": {},
     "output_type": "execute_result"
    }
   ],
   "source": [
    "# number of joints\n",
    "e.n"
   ]
  },
  {
   "cell_type": "code",
   "execution_count": 28,
   "id": "846a2e4d",
   "metadata": {},
   "outputs": [
    {
     "data": {
      "text/plain": [
       "[R(q0), R(q1)]"
      ]
     },
     "execution_count": 28,
     "metadata": {},
     "output_type": "execute_result"
    }
   ],
   "source": [
    "# ET elements in the sequence that are joints\n",
    "e.joints()"
   ]
  },
  {
   "cell_type": "code",
   "execution_count": 29,
   "id": "952d8f34",
   "metadata": {},
   "outputs": [
    {
     "data": {
      "text/plain": [
       "'RR'"
      ]
     },
     "execution_count": 29,
     "metadata": {},
     "output_type": "execute_result"
    }
   ],
   "source": [
    "# the joint structure of a robot (R for revolute and P for prismatic)\n",
    "e.structure"
   ]
  },
  {
   "cell_type": "code",
   "execution_count": 30,
   "id": "3cada374",
   "metadata": {},
   "outputs": [
    {
     "data": {
      "application/vnd.jupyter.widget-view+json": {
       "model_id": "9e6e9d62bc014a8d8bbce927de5b904a",
       "version_major": 2,
       "version_minor": 0
      },
      "image/png": "[encoded data removed]",
      "text/html": [
       "\n",
       "            <div style=\"display: inline-block;\">\n",
       "                <div class=\"jupyter-widgets widget-label\" style=\"text-align: center;\">\n",
       "                    Robotics Toolbox for Python (Figure 3)\n",
       "                </div>\n",
       "                <img src='data:image/png;base64,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' width=640.0/>\n",
       "            </div>\n",
       "        "
      ],
      "text/plain": [
       "Canvas(toolbar=Toolbar(toolitems=[('Home', 'Reset original view', 'home', 'home'), ('Back', 'Back to previous …"
      ]
     },
     "metadata": {},
     "output_type": "display_data"
    }
   ],
   "source": [
    "# display the robot nuninteracitvely\n",
    "e.plot(np.deg2rad([30, 30]));"
   ]
  },
  {
   "cell_type": "code",
   "execution_count": 17,
   "id": "7d0baf9a",
   "metadata": {},
   "outputs": [
    {
     "data": {
      "text/plain": [
       "tx(1)"
      ]
     },
     "execution_count": 17,
     "metadata": {},
     "output_type": "execute_result"
    }
   ],
   "source": [
    "# ET2 object also acts like a list, we can slice it as follows\n",
    "e[1]"
   ]
  },
  {
   "cell_type": "code",
   "execution_count": 19,
   "id": "797c123b",
   "metadata": {},
   "outputs": [
    {
     "data": {
      "text/plain": [
       "1.0"
      ]
     },
     "execution_count": 19,
     "metadata": {},
     "output_type": "execute_result"
    }
   ],
   "source": [
    "# the transformation constant (a_1 in this case)\n",
    "e[1].eta"
   ]
  },
  {
   "cell_type": "code",
   "execution_count": 20,
   "id": "5016f74a",
   "metadata": {},
   "outputs": [
    {
     "data": {
      "text/plain": [
       "array([[       1,        0,        1],\n",
       "       [       0,        1,        0],\n",
       "       [       0,        0,        1]])"
      ]
     },
     "execution_count": 20,
     "metadata": {},
     "output_type": "execute_result"
    }
   ],
   "source": [
    "# the corresponding SE(2) matrix (corresponding SE(2) matrix which in this case represents a translation of 1 in the x-direction)\n",
    "e[1].A()"
   ]
  },
  {
   "cell_type": "code",
   "execution_count": 31,
   "id": "0af413a7",
   "metadata": {},
   "outputs": [
    {
     "data": {
      "text/plain": [
       "R(q1)"
      ]
     },
     "execution_count": 31,
     "metadata": {},
     "output_type": "execute_result"
    }
   ],
   "source": [
    "e[2]"
   ]
  },
  {
   "cell_type": "code",
   "execution_count": 33,
   "id": "d3656f7c",
   "metadata": {},
   "outputs": [
    {
     "data": {
      "text/plain": [
       "tx(2)"
      ]
     },
     "execution_count": 33,
     "metadata": {},
     "output_type": "execute_result"
    }
   ],
   "source": [
    "e[3]"
   ]
  },
  {
   "cell_type": "code",
   "execution_count": 35,
   "id": "bab48413",
   "metadata": {},
   "outputs": [
    {
     "data": {
      "text/plain": [
       "R(q0)"
      ]
     },
     "execution_count": 35,
     "metadata": {},
     "output_type": "execute_result"
    }
   ],
   "source": [
    "e[0]"
   ]
  },
  {
   "cell_type": "code",
   "execution_count": 32,
   "id": "844aa21a",
   "metadata": {},
   "outputs": [
    {
     "data": {
      "text/plain": [
       "array([[       1,        0,        0],\n",
       "       [       0,        1,        0],\n",
       "       [       0,        0,        1]])"
      ]
     },
     "execution_count": 32,
     "metadata": {},
     "output_type": "execute_result"
    }
   ],
   "source": [
    "e[2].A()"
   ]
  },
  {
   "cell_type": "code",
   "execution_count": 21,
   "id": "aa47d68b",
   "metadata": {},
   "outputs": [
    {
     "name": "stdout",
     "output_type": "stream",
     "text": [
      "R(q0) ⊕ tx(q1)\n"
     ]
    },
    {
     "data": {
      "text/plain": []
     },
     "execution_count": 21,
     "metadata": {},
     "output_type": "execute_result"
    }
   ],
   "source": [
    "# a robot includes a prismatic joint. (for prismatic joint we need to specify the range of motion qlim)\n",
    "e = ET2.R() * ET2.tx(qlim=[1,2])"
   ]
  },
  {
   "cell_type": "code",
   "execution_count": 22,
   "id": "cc84e466",
   "metadata": {},
   "outputs": [
    {
     "data": {
      "text/plain": [
       "'RP'"
      ]
     },
     "execution_count": 22,
     "metadata": {},
     "output_type": "execute_result"
    }
   ],
   "source": [
    "e.structure"
   ]
  },
  {
   "cell_type": "markdown",
   "id": "ed75c7e4",
   "metadata": {},
   "source": [
    "### 7.1.1.2 3-Dimensional Robotic Arms\n"
   ]
  },
  {
   "cell_type": "code",
   "execution_count": 40,
   "id": "82a4b294",
   "metadata": {},
   "outputs": [],
   "source": [
    "a1 = 1; a2 = 1;\n",
    "e = ET.Rz() * ET.Ry() \\\n",
    "     * ET.tz(a1) * ET.Ry() * ET.tz(a2) \\\n",
    "     * ET.Rz() * ET.Ry() * ET.Rz();"
   ]
  },
  {
   "cell_type": "code",
   "execution_count": 42,
   "id": "36aa9974",
   "metadata": {},
   "outputs": [
    {
     "data": {
      "text/plain": [
       "6"
      ]
     },
     "execution_count": 42,
     "metadata": {},
     "output_type": "execute_result"
    }
   ],
   "source": [
    "e.n"
   ]
  },
  {
   "cell_type": "code",
   "execution_count": 43,
   "id": "103da173",
   "metadata": {},
   "outputs": [
    {
     "data": {
      "text/plain": [
       "'RRRRRR'"
      ]
     },
     "execution_count": 43,
     "metadata": {},
     "output_type": "execute_result"
    }
   ],
   "source": [
    "e.structure"
   ]
  },
  {
   "cell_type": "code",
   "execution_count": 44,
   "id": "29e9a28b",
   "metadata": {},
   "outputs": [
    {
     "data": {
      "text/plain": [
       "  \u001b[38;5;1m 1       \u001b[0m \u001b[38;5;1m 0       \u001b[0m \u001b[38;5;1m 0       \u001b[0m \u001b[38;5;4m 0       \u001b[0m  \u001b[0m\n",
       "  \u001b[38;5;1m 0       \u001b[0m \u001b[38;5;1m 1       \u001b[0m \u001b[38;5;1m 0       \u001b[0m \u001b[38;5;4m 0       \u001b[0m  \u001b[0m\n",
       "  \u001b[38;5;1m 0       \u001b[0m \u001b[38;5;1m 0       \u001b[0m \u001b[38;5;1m 1       \u001b[0m \u001b[38;5;4m 2       \u001b[0m  \u001b[0m\n",
       "  \u001b[38;5;244m 0       \u001b[0m \u001b[38;5;244m 0       \u001b[0m \u001b[38;5;244m 0       \u001b[0m \u001b[38;5;244m 1       \u001b[0m  \u001b[0m\n"
      ]
     },
     "execution_count": 44,
     "metadata": {},
     "output_type": "execute_result"
    }
   ],
   "source": [
    "# end-effector pose for all zero joint angles \n",
    "e.fkine(np.zeros((6,)))"
   ]
  },
  {
   "cell_type": "markdown",
   "id": "c9212ce5",
   "metadata": {},
   "source": [
    "## 7.1.2 Forward kinematics as a chain of robot links\n"
   ]
  },
  {
   "cell_type": "markdown",
   "id": "196dbf8e",
   "metadata": {},
   "source": [
    "### 7.1.2.1 2-Dimensional (Planar) case\n"
   ]
  },
  {
   "cell_type": "code",
   "execution_count": 45,
   "id": "77190b24",
   "metadata": {},
   "outputs": [],
   "source": [
    "link1 = Link2(ET2.R(), name=\"link1\");\n",
    "link2 = Link2(ET2.tx(1) * ET2.R(), name=\"link2\", parent=link1);\n",
    "link3 = Link2(ET2.tx(1), name=\"link3\", parent=link2);"
   ]
  },
  {
   "cell_type": "code",
   "execution_count": 46,
   "id": "85bf3bf7",
   "metadata": {},
   "outputs": [
    {
     "data": {
      "text/plain": [
       "ERobot: my robot, 2 joints (RR)\n",
       "┌─────┬────────┬───────┬────────┬─────────────────────┐\n",
       "│link │  link  │ joint │ parent │ ETS: parent to link │\n",
       "├─────┼────────┼───────┼────────┼─────────────────────┤\n",
       "│   0\u001b[0m │ link1\u001b[0m  │     0\u001b[0m │ BASE\u001b[0m   │ R(q0)\u001b[0m               │\n",
       "│   1\u001b[0m │ link2\u001b[0m  │     1\u001b[0m │ link1\u001b[0m  │ tx(1) ⊕ R(q1)\u001b[0m       │\n",
       "│   2\u001b[0m │ \u001b[38;5;4m@link3\u001b[0m │      \u001b[0m │ link2\u001b[0m  │ tx(1)\u001b[0m               │\n",
       "└─────┴────────┴───────┴────────┴─────────────────────┘"
      ]
     },
     "execution_count": 46,
     "metadata": {},
     "output_type": "execute_result"
    }
   ],
   "source": [
    "robot = ERobot2([link1, link2, link3], name=\"my robot\")"
   ]
  },
  {
   "cell_type": "code",
   "execution_count": 47,
   "id": "c04b06c9",
   "metadata": {},
   "outputs": [
    {
     "name": "stdout",
     "output_type": "stream",
     "text": [
      "t = 1.21, 1.44; 70°\n"
     ]
    }
   ],
   "source": [
    "robot.fkine(np.deg2rad([30, 40])).printline()"
   ]
  },
  {
   "cell_type": "code",
   "execution_count": 48,
   "id": "1c1d0ed2",
   "metadata": {},
   "outputs": [
    {
     "data": {
      "application/vnd.jupyter.widget-view+json": {
       "model_id": "253519f0626c4090a33a606916dabfc4",
       "version_major": 2,
       "version_minor": 0
      },
      "image/png": "[encoded data removed]",
      "text/html": [
       "\n",
       "            <div style=\"display: inline-block;\">\n",
       "                <div class=\"jupyter-widgets widget-label\" style=\"text-align: center;\">\n",
       "                    Robotics Toolbox for Python (Figure 4)\n",
       "                </div>\n",
       "                <img src='data:image/png;base64,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' width=640.0/>\n",
       "            </div>\n",
       "        "
      ],
      "text/plain": [
       "Canvas(toolbar=Toolbar(toolitems=[('Home', 'Reset original view', 'home', 'home'), ('Back', 'Back to previous …"
      ]
     },
     "metadata": {},
     "output_type": "display_data"
    }
   ],
   "source": [
    "robot.plot(np.deg2rad([30, 40]));"
   ]
  },
  {
   "cell_type": "code",
   "execution_count": 49,
   "id": "fb0bd95b",
   "metadata": {},
   "outputs": [
    {
     "data": {
      "application/vnd.jupyter.widget-view+json": {
       "model_id": "da964fffb54b45ffacda2f31d44a399f",
       "version_major": 2,
       "version_minor": 0
      },
      "image/png": "[encoded data removed]",
      "text/html": [
       "\n",
       "            <div style=\"display: inline-block;\">\n",
       "                <div class=\"jupyter-widgets widget-label\" style=\"text-align: center;\">\n",
       "                    Robotics Toolbox for Python (Figure 5)\n",
       "                </div>\n",
       "                <img src='data:image/png;base64,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' width=640.0/>\n",
       "            </div>\n",
       "        "
      ],
      "text/plain": [
       "Canvas(toolbar=Toolbar(toolitems=[('Home', 'Reset original view', 'home', 'home'), ('Back', 'Back to previous …"
      ]
     },
     "metadata": {},
     "output_type": "display_data"
    }
   ],
   "source": [
    "q = np.array([np.linspace(0, pi, 100), np.linspace(0, -2 * pi, 100)]).T;\n",
    "q.shape\n",
    "robot.plot(q);"
   ]
  },
  {
   "cell_type": "code",
   "execution_count": 50,
   "id": "59c6e900",
   "metadata": {},
   "outputs": [
    {
     "data": {
      "text/plain": [
       "Link2(\"link2\", tx(1) ⊕ R(q), parent=\"link1\")"
      ]
     },
     "execution_count": 50,
     "metadata": {},
     "output_type": "execute_result"
    }
   ],
   "source": [
    "# slice\n",
    "robot[1]"
   ]
  },
  {
   "cell_type": "code",
   "execution_count": 51,
   "id": "d6156447",
   "metadata": {},
   "outputs": [
    {
     "data": {
      "text/plain": [
       "Link2(\"link2\", tx(1) ⊕ R(q), parent=\"link1\")"
      ]
     },
     "execution_count": 51,
     "metadata": {},
     "output_type": "execute_result"
    }
   ],
   "source": [
    "# act as dictionary\n",
    "robot[\"link2\"]"
   ]
  },
  {
   "cell_type": "code",
   "execution_count": 52,
   "id": "ba45b391",
   "metadata": {},
   "outputs": [
    {
     "data": {
      "text/plain": [
       "[Link2(\"link3\", tx(1), parent=\"link2\")]"
      ]
     },
     "execution_count": 52,
     "metadata": {},
     "output_type": "execute_result"
    }
   ],
   "source": [
    "# end effector\n",
    "robot.ee_links"
   ]
  },
  {
   "cell_type": "code",
   "execution_count": 53,
   "id": "24fa72f8",
   "metadata": {},
   "outputs": [
    {
     "data": {
      "text/plain": [
       "Link2(\"link1\", R(q))"
      ]
     },
     "execution_count": 53,
     "metadata": {},
     "output_type": "execute_result"
    }
   ],
   "source": [
    "# show its parent\n",
    "link2.parent"
   ]
  },
  {
   "cell_type": "code",
   "execution_count": 54,
   "id": "8fb199f2",
   "metadata": {},
   "outputs": [
    {
     "data": {
      "text/plain": [
       "[Link2(\"link3\", tx(1), parent=\"link2\")]"
      ]
     },
     "execution_count": 54,
     "metadata": {},
     "output_type": "execute_result"
    }
   ],
   "source": [
    "# show its children\n",
    "link2.children"
   ]
  },
  {
   "cell_type": "code",
   "execution_count": 55,
   "id": "4a368422",
   "metadata": {},
   "outputs": [
    {
     "data": {
      "text/plain": [
       "1"
      ]
     },
     "execution_count": 55,
     "metadata": {},
     "output_type": "execute_result"
    }
   ],
   "source": [
    "# show its joint index\n",
    "link2.jindex"
   ]
  },
  {
   "cell_type": "code",
   "execution_count": 57,
   "id": "38440457",
   "metadata": {},
   "outputs": [
    {
     "data": {
      "text/plain": [
       "True"
      ]
     },
     "execution_count": 57,
     "metadata": {},
     "output_type": "execute_result"
    }
   ],
   "source": [
    "# test the type of joint\n",
    "link2.isrevolute"
   ]
  },
  {
   "cell_type": "code",
   "execution_count": 58,
   "id": "70963c97",
   "metadata": {},
   "outputs": [
    {
     "data": {
      "text/plain": [
       "False"
      ]
     },
     "execution_count": 58,
     "metadata": {},
     "output_type": "execute_result"
    }
   ],
   "source": [
    "# test the type of joint\n",
    "link2.isprismatic"
   ]
  },
  {
   "cell_type": "code",
   "execution_count": 59,
   "id": "42ba3b39",
   "metadata": {},
   "outputs": [
    {
     "name": "stdout",
     "output_type": "stream",
     "text": [
      "None\n"
     ]
    }
   ],
   "source": [
    "# joints can have upper and lower limits, but in this case none are set\n",
    "print(link2.qlim)"
   ]
  },
  {
   "cell_type": "code",
   "execution_count": 60,
   "id": "69753ff2",
   "metadata": {},
   "outputs": [
    {
     "data": {
      "text/plain": [
       "  \u001b[38;5;1m 0.866   \u001b[0m \u001b[38;5;1m-0.5     \u001b[0m \u001b[38;5;4m 1       \u001b[0m  \u001b[0m\n",
       "  \u001b[38;5;1m 0.5     \u001b[0m \u001b[38;5;1m 0.866   \u001b[0m \u001b[38;5;4m 0       \u001b[0m  \u001b[0m\n",
       "  \u001b[38;5;244m 0       \u001b[0m \u001b[38;5;244m 0       \u001b[0m \u001b[38;5;244m 1       \u001b[0m  \u001b[0m\n"
      ]
     },
     "execution_count": 60,
     "metadata": {},
     "output_type": "execute_result"
    }
   ],
   "source": [
    "# the relative pose of this link's frame with respect to its parent's frame\n",
    "link2.A(pi / 6)"
   ]
  },
  {
   "cell_type": "code",
   "execution_count": null,
   "id": "4a0c7809",
   "metadata": {},
   "outputs": [],
   "source": [
    "# evaluate the link's ETS\n",
    "link2.ets"
   ]
  },
  {
   "cell_type": "markdown",
   "id": "37f52b17",
   "metadata": {},
   "source": [
    "### 7.1.2.2 3-Dimensional case (HW2-Problem2.2)\n"
   ]
  },
  {
   "cell_type": "code",
   "execution_count": 62,
   "id": "c21cb5ae",
   "metadata": {},
   "outputs": [
    {
     "data": {
      "text/plain": [
       "ERobot: , 6 joints (RRRRRR)\n",
       "┌─────┬────────┬───────┬────────┬─────────────────────┐\n",
       "│link │  link  │ joint │ parent │ ETS: parent to link │\n",
       "├─────┼────────┼───────┼────────┼─────────────────────┤\n",
       "│   0\u001b[0m │ link0\u001b[0m  │     0\u001b[0m │ BASE\u001b[0m   │ Rz(q0)\u001b[0m              │\n",
       "│   1\u001b[0m │ link1\u001b[0m  │     1\u001b[0m │ link0\u001b[0m  │ Ry(q1)\u001b[0m              │\n",
       "│   2\u001b[0m │ link2\u001b[0m  │     2\u001b[0m │ link1\u001b[0m  │ tz(1) ⊕ Ry(q2)\u001b[0m      │\n",
       "│   3\u001b[0m │ link3\u001b[0m  │     3\u001b[0m │ link2\u001b[0m  │ tz(1) ⊕ Rz(q3)\u001b[0m      │\n",
       "│   4\u001b[0m │ link4\u001b[0m  │     4\u001b[0m │ link3\u001b[0m  │ Ry(q4)\u001b[0m              │\n",
       "│   5\u001b[0m │ @link5\u001b[0m │     5\u001b[0m │ link4\u001b[0m  │ Rz(q5)\u001b[0m              │\n",
       "└─────┴────────┴───────┴────────┴─────────────────────┘"
      ]
     },
     "execution_count": 62,
     "metadata": {},
     "output_type": "execute_result"
    }
   ],
   "source": [
    "a1 = 1; a2 = 1;\n",
    "robot6 = ERobot(ET.Rz() * ET.Ry()\\\n",
    "                * ET.tz(a1) * ET.Ry() * ET.tz(a2)\\\n",
    "                * ET.Rz() * ET.Ry() * ET.Rz())"
   ]
  },
  {
   "cell_type": "code",
   "execution_count": 63,
   "id": "d4b68cec",
   "metadata": {},
   "outputs": [
    {
     "name": "stdout",
     "output_type": "stream",
     "text": [
      "┌─────────────┬───────────────┬─────────────────────┬──────┬─────┬──────┬───────────┬──────────┬──────────┬──────────┐\n",
      "│   class     │     name      │    manufacturer     │ type │ DoF │ dims │ structure │ dynamics │ geometry │ keywords │\n",
      "├─────────────┼───────────────┼─────────────────────┼──────┼─────┼──────┼───────────┼──────────┼──────────┼──────────┤\n",
      "│Panda\u001b[0m        │ Panda\u001b[0m         │ Franka Emika\u001b[0m        │ ETS\u001b[0m  │ 7\u001b[0m   │ 3d\u001b[0m   │ RRRRRRR\u001b[0m   │ \u001b[0m         │ \u001b[0m         │ \u001b[0m         │\n",
      "│Frankie\u001b[0m      │ Frankie\u001b[0m       │ Franka Emika, Omron\u001b[0m │ ETS\u001b[0m  │ 9\u001b[0m   │ 3d\u001b[0m   │ RPRRRRRRR\u001b[0m │ \u001b[0m         │ \u001b[0m         │ mobile\u001b[0m   │\n",
      "│Puma560\u001b[0m      │ Puma560\u001b[0m       │ Unimation\u001b[0m           │ ETS\u001b[0m  │ 6\u001b[0m   │ 3d\u001b[0m   │ RRRRRR\u001b[0m    │ \u001b[0m         │ \u001b[0m         │ \u001b[0m         │\n",
      "│Planar_Y\u001b[0m     │ Planar-Y\u001b[0m      │ \u001b[0m                    │ ETS\u001b[0m  │ 6\u001b[0m   │ 3d\u001b[0m   │ RRRRRR\u001b[0m    │ \u001b[0m         │ \u001b[0m         │ \u001b[0m         │\n",
      "│GenericSeven\u001b[0m │ Generic Seven\u001b[0m │ Jesse's Imagination\u001b[0m │ ETS\u001b[0m  │ 7\u001b[0m   │ 3d\u001b[0m   │ RRRRRRR\u001b[0m   │ \u001b[0m         │ \u001b[0m         │ \u001b[0m         │\n",
      "│XYPanda\u001b[0m      │ XYPanda\u001b[0m       │ Franka Emika\u001b[0m        │ ETS\u001b[0m  │ 9\u001b[0m   │ 3d\u001b[0m   │ PPRRRRRRR\u001b[0m │ \u001b[0m         │ \u001b[0m         │ \u001b[0m         │\n",
      "└─────────────┴───────────────┴─────────────────────┴──────┴─────┴──────┴───────────┴──────────┴──────────┴──────────┘\n",
      "\n"
     ]
    }
   ],
   "source": [
    "models.list(type=\"ETS\")"
   ]
  },
  {
   "cell_type": "code",
   "execution_count": 64,
   "id": "a95f5559",
   "metadata": {},
   "outputs": [
    {
     "data": {
      "text/plain": [
       "ERobot: Panda (by Franka Emika), 7 joints (RRRRRRR)\n",
       "┌─────┬───────┬───────┬────────┬─────────────────────────────────────────────┐\n",
       "│link │ link  │ joint │ parent │             ETS: parent to link             │\n",
       "├─────┼───────┼───────┼────────┼─────────────────────────────────────────────┤\n",
       "│   0\u001b[0m │ link0\u001b[0m │     0\u001b[0m │ BASE\u001b[0m   │ tz(0.333) ⊕ Rz(q0)\u001b[0m                          │\n",
       "│   1\u001b[0m │ link1\u001b[0m │     1\u001b[0m │ link0\u001b[0m  │ Rx(-90°) ⊕ Rz(q1)\u001b[0m                           │\n",
       "│   2\u001b[0m │ link2\u001b[0m │     2\u001b[0m │ link1\u001b[0m  │ Rx(90°) ⊕ tz(0.316) ⊕ Rz(q2)\u001b[0m                │\n",
       "│   3\u001b[0m │ link3\u001b[0m │     3\u001b[0m │ link2\u001b[0m  │ tx(0.0825) ⊕ Rx(90°) ⊕ Rz(q3)\u001b[0m               │\n",
       "│   4\u001b[0m │ link4\u001b[0m │     4\u001b[0m │ link3\u001b[0m  │ tx(-0.0825) ⊕ Rx(-90°) ⊕ tz(0.384) ⊕ Rz(q4)\u001b[0m │\n",
       "│   5\u001b[0m │ link5\u001b[0m │     5\u001b[0m │ link4\u001b[0m  │ Rx(90°) ⊕ Rz(q5)\u001b[0m                            │\n",
       "│   6\u001b[0m │ link6\u001b[0m │     6\u001b[0m │ link5\u001b[0m  │ tx(0.088) ⊕ Rx(90°) ⊕ tz(0.107) ⊕ Rz(q6)\u001b[0m    │\n",
       "│   7\u001b[0m │ \u001b[38;5;4m@ee\u001b[0m   │      \u001b[0m │ link6\u001b[0m  │ tz(0.103) ⊕ Rz(-45°)\u001b[0m                        │\n",
       "└─────┴───────┴───────┴────────┴─────────────────────────────────────────────┘\n",
       "\n",
       "┌─────┬─────┬────────┬─────┬───────┬─────┬───────┬──────┐\n",
       "│name │ q0  │ q1     │ q2  │ q3    │ q4  │ q5    │ q6   │\n",
       "├─────┼─────┼────────┼─────┼───────┼─────┼───────┼──────┤\n",
       "│  qr\u001b[0m │  0°\u001b[0m │ -17.2°\u001b[0m │  0°\u001b[0m │ -126°\u001b[0m │  0°\u001b[0m │  115°\u001b[0m │  45°\u001b[0m │\n",
       "│  qz\u001b[0m │  0°\u001b[0m │  0°\u001b[0m    │  0°\u001b[0m │  0°\u001b[0m   │  0°\u001b[0m │  0°\u001b[0m   │  0°\u001b[0m  │\n",
       "└─────┴─────┴────────┴─────┴───────┴─────┴───────┴──────┘"
      ]
     },
     "execution_count": 64,
     "metadata": {},
     "output_type": "execute_result"
    }
   ],
   "source": [
    "panda = models.ETS.Panda()"
   ]
  },
  {
   "cell_type": "code",
   "execution_count": 65,
   "id": "aa8ecac0",
   "metadata": {},
   "outputs": [
    {
     "data": {
      "text/plain": [
       "array([       0,     -0.3,        0,     -2.2,        0,        2,   0.7854])"
      ]
     },
     "execution_count": 65,
     "metadata": {},
     "output_type": "execute_result"
    }
   ],
   "source": [
    "# pre-defined joint configurations named qr, as well as qz\n",
    "panda.qr"
   ]
  },
  {
   "cell_type": "code",
   "execution_count": 66,
   "id": "fbbb7053",
   "metadata": {},
   "outputs": [],
   "source": [
    "# add a configuration to this robot instance\n",
    "panda.addconfiguration(\"foo\", [1, 2, 3, 4, 5, 6, 7]) "
   ]
  },
  {
   "cell_type": "code",
   "execution_count": 67,
   "id": "3911ba03",
   "metadata": {},
   "outputs": [],
   "source": [
    "panda.configs[\"foo\"];\n",
    "panda.configs[\"qz\"];"
   ]
  },
  {
   "cell_type": "code",
   "execution_count": 68,
   "id": "cfe58d64",
   "metadata": {},
   "outputs": [
    {
     "name": "stdout",
     "output_type": "stream",
     "text": [
      "t = 0.484, 0, 0.413; rpy/zyx = 180°, -5.73°, 0°\n"
     ]
    }
   ],
   "source": [
    "# compute the forward kinematics\n",
    "panda.fkine(panda.qr).printline()"
   ]
  },
  {
   "cell_type": "code",
   "execution_count": 69,
   "id": "77e74447",
   "metadata": {},
   "outputs": [
    {
     "data": {
      "application/vnd.jupyter.widget-view+json": {
       "model_id": "9a5c9bf785fd48fdba139e696ab6f20f",
       "version_major": 2,
       "version_minor": 0
      },
      "image/png": "[encoded data removed]",
      "text/html": [
       "\n",
       "            <div style=\"display: inline-block;\">\n",
       "                <div class=\"jupyter-widgets widget-label\" style=\"text-align: center;\">\n",
       "                    Robotics Toolbox for Python (Figure 6)\n",
       "                </div>\n",
       "                <img src='data:image/png;base64,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' width=640.0/>\n",
       "            </div>\n",
       "        "
      ],
      "text/plain": [
       "Canvas(toolbar=Toolbar(toolitems=[('Home', 'Reset original view', 'home', 'home'), ('Back', 'Back to previous …"
      ]
     },
     "metadata": {},
     "output_type": "display_data"
    }
   ],
   "source": [
    "panda.plot(panda.qr);"
   ]
  },
  {
   "cell_type": "code",
   "execution_count": 70,
   "id": "5319dc43",
   "metadata": {},
   "outputs": [
    {
     "data": {
      "text/plain": [
       "9"
      ]
     },
     "execution_count": 70,
     "metadata": {},
     "output_type": "execute_result"
    }
   ],
   "source": [
    "# obtain all the link frames\n",
    "T = panda.fkine_all(panda.qr);\n",
    "len(T)"
   ]
  },
  {
   "cell_type": "code",
   "execution_count": 71,
   "id": "6669ee7b",
   "metadata": {},
   "outputs": [
    {
     "name": "stdout",
     "output_type": "stream",
     "text": [
      "t = 0, 0, 0.333; rpy/zyx = 0°, 0°, 0°\n"
     ]
    }
   ],
   "source": [
    "# the pose of the link 1 frame, and T[0] is the base frame, and T[8] is the tool frame.\n",
    "T[1].printline()"
   ]
  },
  {
   "cell_type": "markdown",
   "id": "ed6a3ab3",
   "metadata": {},
   "source": [
    "### 7.1.2.3 Tools and bases\n"
   ]
  },
  {
   "cell_type": "code",
   "execution_count": 72,
   "id": "62c5a5e8",
   "metadata": {},
   "outputs": [],
   "source": [
    "# set the default base or tool of any Toolbox robot object\n",
    "panda.base = SE3.Tz(3) * SE3.Rx(pi); # robot is 3m up and hanging down\n",
    "panda.tool = SE3.Tz(0.15); # tool is 150mm long in z-direction"
   ]
  },
  {
   "cell_type": "code",
   "execution_count": 73,
   "id": "2a9fd255",
   "metadata": {},
   "outputs": [],
   "source": [
    "panda.fkine(panda.qr, tool=SE3.Trans(0.05, 0.02, 0.20) * SE3.Rz(np.deg2rad(45)));"
   ]
  },
  {
   "cell_type": "markdown",
   "id": "b21c259c",
   "metadata": {},
   "source": [
    "## 7.1.3 Branched robots\n"
   ]
  },
  {
   "cell_type": "markdown",
   "id": "26fe3d25",
   "metadata": {},
   "source": [
    "### 7.1.3.1 2D (Planar) Branched robots\n"
   ]
  },
  {
   "cell_type": "code",
   "execution_count": 74,
   "id": "97b2ddeb",
   "metadata": {},
   "outputs": [],
   "source": [
    "robot = ERobot2([\n",
    "  Link2(ET2.R(), name=\"link1\"),\n",
    "  Link2(ET2.tx(1) * ET2.tx(1.2) * ET2.ty(-0.5) * ET2.R(), name=\"link2\", parent=\"link1\"),\n",
    "  Link2(ET2.tx(1), name=\"ee_1\", parent=\"link2\"),\n",
    "  Link2(ET2.tx(1) * ET2.tx(0.6) * ET2.ty(0.5) * ET2.R(), name=\"link3\", parent=\"link1\"),\n",
    "  Link2(ET2.tx(1), name=\"ee_2\", parent=\"link3\") ], name=\"branched\");"
   ]
  },
  {
   "cell_type": "code",
   "execution_count": 75,
   "id": "23c77c40",
   "metadata": {},
   "outputs": [
    {
     "data": {
      "text/plain": [
       "[Link2(\"link2\", tx(1) ⊕ tx(1.2) ⊕ ty(-0.5) ⊕ R(q), parent=\"link1\"),\n",
       " Link2(\"link3\", tx(1) ⊕ tx(0.6) ⊕ ty(0.5) ⊕ R(q), parent=\"link1\")]"
      ]
     },
     "execution_count": 75,
     "metadata": {},
     "output_type": "execute_result"
    }
   ],
   "source": [
    "robot[\"link1\"].children"
   ]
  },
  {
   "cell_type": "code",
   "execution_count": 76,
   "id": "9fba6ccd",
   "metadata": {},
   "outputs": [
    {
     "data": {
      "text/plain": [
       "ERobot: branched, 3 joints (RRR), 2 branches\n",
       "┌─────┬───────┬───────┬────────┬────────────────────────────────────┐\n",
       "│link │ link  │ joint │ parent │        ETS: parent to link         │\n",
       "├─────┼───────┼───────┼────────┼────────────────────────────────────┤\n",
       "│   0\u001b[0m │ link1\u001b[0m │     0\u001b[0m │ BASE\u001b[0m   │ R(q0)\u001b[0m                              │\n",
       "│   1\u001b[0m │ link2\u001b[0m │     1\u001b[0m │ link1\u001b[0m  │ tx(1) ⊕ tx(1.2) ⊕ ty(-0.5) ⊕ R(q1)\u001b[0m │\n",
       "│   2\u001b[0m │ \u001b[38;5;4m@ee_1\u001b[0m │      \u001b[0m │ link2\u001b[0m  │ tx(1)\u001b[0m                              │\n",
       "│   3\u001b[0m │ link3\u001b[0m │     2\u001b[0m │ link1\u001b[0m  │ tx(1) ⊕ tx(0.6) ⊕ ty(0.5) ⊕ R(q2)\u001b[0m  │\n",
       "│   4\u001b[0m │ \u001b[38;5;4m@ee_2\u001b[0m │      \u001b[0m │ link3\u001b[0m  │ tx(1)\u001b[0m                              │\n",
       "└─────┴───────┴───────┴────────┴────────────────────────────────────┘"
      ]
     },
     "execution_count": 76,
     "metadata": {},
     "output_type": "execute_result"
    }
   ],
   "source": [
    "robot"
   ]
  },
  {
   "cell_type": "code",
   "execution_count": null,
   "id": "916c9931",
   "metadata": {},
   "outputs": [],
   "source": [
    "robot.showgraph()"
   ]
  },
  {
   "cell_type": "code",
   "execution_count": null,
   "id": "083c61a1",
   "metadata": {},
   "outputs": [],
   "source": [
    "# robot.teach()\n",
    "plt.figure()\n",
    "robot.plot([0.3, 0.4, -0.6]);"
   ]
  },
  {
   "cell_type": "code",
   "execution_count": null,
   "id": "85ca2de4",
   "metadata": {},
   "outputs": [],
   "source": [
    "robot.fkine([0.3, 0.4, -0.6], end=\"ee_2\")"
   ]
  },
  {
   "cell_type": "code",
   "execution_count": null,
   "id": "f4be9a77",
   "metadata": {},
   "outputs": [],
   "source": [
    "robot.fkine([0.3, 0.4, -0.6], end=\"ee_2\", start=\"ee_1\")"
   ]
  },
  {
   "cell_type": "markdown",
   "id": "1a1918db",
   "metadata": {},
   "source": [
    "## 7.1.4 Unified Robot Description Format (URDF)\n"
   ]
  },
  {
   "cell_type": "code",
   "execution_count": null,
   "id": "c8b03b76",
   "metadata": {},
   "outputs": [],
   "source": [
    "urdf, *_ = ERobot.URDF_read(\"ur_description/urdf/ur5_joint_limited_robot.urdf.xacro\")\n",
    "urdf"
   ]
  },
  {
   "cell_type": "code",
   "execution_count": null,
   "id": "90c2bff3",
   "metadata": {},
   "outputs": [],
   "source": [
    "ur5 = models.URDF.UR5()"
   ]
  },
  {
   "cell_type": "code",
   "execution_count": null,
   "id": "4f5c93f0",
   "metadata": {},
   "outputs": [],
   "source": [
    "ur5.showgraph()"
   ]
  },
  {
   "cell_type": "code",
   "execution_count": null,
   "id": "9ae2922c",
   "metadata": {},
   "outputs": [],
   "source": [
    "ur5.grippers"
   ]
  },
  {
   "cell_type": "code",
   "execution_count": null,
   "id": "327e1237",
   "metadata": {},
   "outputs": [],
   "source": [
    "ur5.plot(ur5.qr);"
   ]
  },
  {
   "cell_type": "code",
   "execution_count": null,
   "id": "f82fb5b0",
   "metadata": {},
   "outputs": [],
   "source": [
    "ur5.dynamics()"
   ]
  },
  {
   "cell_type": "code",
   "execution_count": null,
   "id": "b4c29c5d",
   "metadata": {},
   "outputs": [],
   "source": [
    "yumi = models.URDF.YuMi()"
   ]
  },
  {
   "cell_type": "code",
   "execution_count": null,
   "id": "c8801741",
   "metadata": {},
   "outputs": [],
   "source": [
    "yumi.showgraph(ets=\"brief\")"
   ]
  },
  {
   "cell_type": "code",
   "execution_count": null,
   "id": "eda4f296",
   "metadata": {},
   "outputs": [],
   "source": [
    "yumi.grippers"
   ]
  },
  {
   "cell_type": "code",
   "execution_count": null,
   "id": "76d53924",
   "metadata": {},
   "outputs": [],
   "source": [
    "yumi.plot(yumi.q1);"
   ]
  },
  {
   "cell_type": "code",
   "execution_count": null,
   "id": "fc0faaa8",
   "metadata": {
    "lines_to_next_cell": 2
   },
   "outputs": [],
   "source": [
    "models.list(type=\"URDF\")"
   ]
  },
  {
   "cell_type": "code",
   "execution_count": null,
   "id": "10568365",
   "metadata": {},
   "outputs": [],
   "source": [
    "pr2 = models.URDF.PR2()"
   ]
  },
  {
   "cell_type": "code",
   "execution_count": null,
   "id": "94292f5a",
   "metadata": {},
   "outputs": [],
   "source": [
    "pr2.showgraph()"
   ]
  },
  {
   "cell_type": "code",
   "execution_count": null,
   "id": "66d2070c",
   "metadata": {},
   "outputs": [],
   "source": [
    "pr2.plot(pr2.qz)"
   ]
  },
  {
   "cell_type": "markdown",
   "id": "66a0fc01",
   "metadata": {},
   "source": [
    "## 7.1.5 Denavit-Hartenberg Parameters\n"
   ]
  },
  {
   "cell_type": "code",
   "execution_count": null,
   "id": "274dd13b",
   "metadata": {},
   "outputs": [],
   "source": [
    "link = RevoluteDH(a=1)"
   ]
  },
  {
   "cell_type": "code",
   "execution_count": null,
   "id": "ad7b5971",
   "metadata": {},
   "outputs": [],
   "source": [
    "link.A(0.5)"
   ]
  },
  {
   "cell_type": "code",
   "execution_count": null,
   "id": "673cd40c",
   "metadata": {
    "lines_to_next_cell": 2
   },
   "outputs": [],
   "source": [
    "models.list(type=\"DH\")"
   ]
  },
  {
   "cell_type": "code",
   "execution_count": null,
   "id": "716a54e5",
   "metadata": {},
   "outputs": [],
   "source": [
    "irb140 = models.DH.IRB140();"
   ]
  },
  {
   "cell_type": "code",
   "execution_count": null,
   "id": "c025ffb4",
   "metadata": {},
   "outputs": [],
   "source": [
    "irb140"
   ]
  },
  {
   "cell_type": "code",
   "execution_count": null,
   "id": "05ac6213",
   "metadata": {},
   "outputs": [],
   "source": [
    "irb140._tool"
   ]
  },
  {
   "cell_type": "code",
   "execution_count": null,
   "id": "9ae3fff4",
   "metadata": {},
   "outputs": [],
   "source": [
    "irb140.fkine(irb140.qr).printline(\"rpy/xyz\")"
   ]
  },
  {
   "cell_type": "code",
   "execution_count": null,
   "id": "ab3e6c60",
   "metadata": {},
   "outputs": [],
   "source": [
    "irb140.plot(irb140.qr);"
   ]
  },
  {
   "cell_type": "code",
   "execution_count": null,
   "id": "dfb184db",
   "metadata": {},
   "outputs": [],
   "source": [
    "# irb140.teach()"
   ]
  },
  {
   "cell_type": "code",
   "execution_count": null,
   "id": "ab41bdfa",
   "metadata": {},
   "outputs": [],
   "source": [
    "irb140.ets()"
   ]
  },
  {
   "cell_type": "markdown",
   "id": "940e2659",
   "metadata": {},
   "source": [
    "# 7.2 Inverse Kinematics\n"
   ]
  },
  {
   "cell_type": "markdown",
   "id": "61113591",
   "metadata": {},
   "source": [
    "## 7.2.1 2-Dimensional (Planar) Robotic Arms\n"
   ]
  },
  {
   "cell_type": "markdown",
   "id": "3a28aced",
   "metadata": {},
   "source": [
    "### 7.2.1.1 Closed-Form Solution\n"
   ]
  },
  {
   "cell_type": "code",
   "execution_count": null,
   "id": "48b379cd",
   "metadata": {},
   "outputs": [],
   "source": [
    "import sympy\n",
    "a1, a2 = sympy.symbols(\"a1 a2\")\n",
    "e = ET2.R() * ET2.tx(a1) * ET2.R() * ET2.tx(a2);"
   ]
  },
  {
   "cell_type": "code",
   "execution_count": null,
   "id": "b8dac101",
   "metadata": {},
   "outputs": [],
   "source": [
    "q0, q1 = sympy.symbols(\"q0 q1\")"
   ]
  },
  {
   "cell_type": "code",
   "execution_count": null,
   "id": "dafa6650",
   "metadata": {},
   "outputs": [],
   "source": [
    "TE = e.fkine([q0, q1])\n",
    "x_fk, y_fk = TE.t;"
   ]
  },
  {
   "cell_type": "code",
   "execution_count": null,
   "id": "aeed4709",
   "metadata": {},
   "outputs": [],
   "source": [
    "x, y = sympy.symbols(\"x y\")"
   ]
  },
  {
   "cell_type": "code",
   "execution_count": null,
   "id": "6a678fbe",
   "metadata": {},
   "outputs": [],
   "source": [
    "eq1 = (x_fk**2 + y_fk**2 - x**2 - y**2).trigsimp()  "
   ]
  },
  {
   "cell_type": "code",
   "execution_count": null,
   "id": "d1a658a7",
   "metadata": {},
   "outputs": [],
   "source": [
    "q1_sol = sympy.solve(eq1, q1) \n",
    "eq0 = tuple(map(sympy.expand_trig, [x_fk - x, y_fk - y]))\n",
    "q0_sol = sympy.solve(eq0, [sympy.sin(q0), sympy.cos(q0)]);"
   ]
  },
  {
   "cell_type": "code",
   "execution_count": null,
   "id": "a0c70d23",
   "metadata": {},
   "outputs": [],
   "source": [
    "sympy.atan2(q0_sol[sympy.sin(q0)], q0_sol[sympy.cos(q0)]).simplify()"
   ]
  },
  {
   "cell_type": "markdown",
   "id": "7cb6af43",
   "metadata": {},
   "source": [
    "### 7.2.1.2 Numerical Solution\n"
   ]
  },
  {
   "cell_type": "code",
   "execution_count": null,
   "id": "0d1cdc16",
   "metadata": {},
   "outputs": [],
   "source": [
    "e = ET2.R() * ET2.tx(1) * ET2.R() * ET2.tx(1);"
   ]
  },
  {
   "cell_type": "code",
   "execution_count": null,
   "id": "4e9c1556",
   "metadata": {},
   "outputs": [],
   "source": [
    "pstar = np.array([0.6, 0.7]);  # desired position\n",
    "E = lambda q: np.linalg.norm(e.fkine(q).t - pstar);"
   ]
  },
  {
   "cell_type": "code",
   "execution_count": null,
   "id": "866fd358",
   "metadata": {},
   "outputs": [],
   "source": [
    "sol = optimize.minimize(E, [0, 0]);"
   ]
  },
  {
   "cell_type": "code",
   "execution_count": null,
   "id": "4da1d1a0",
   "metadata": {},
   "outputs": [],
   "source": [
    "sol.x"
   ]
  },
  {
   "cell_type": "code",
   "execution_count": null,
   "id": "44710a27",
   "metadata": {},
   "outputs": [],
   "source": [
    "e.fkine(sol.x).printline()"
   ]
  },
  {
   "cell_type": "markdown",
   "id": "8b920216",
   "metadata": {},
   "source": [
    "## 7.2.2 3-Dimensional Robotic Arms\n"
   ]
  },
  {
   "cell_type": "markdown",
   "id": "7832e032",
   "metadata": {},
   "source": [
    "### 7.2.2.1 Closed-Form Solution\n"
   ]
  },
  {
   "cell_type": "code",
   "execution_count": null,
   "id": "54672446",
   "metadata": {},
   "outputs": [],
   "source": [
    "puma = models.DH.Puma560();"
   ]
  },
  {
   "cell_type": "code",
   "execution_count": null,
   "id": "bda6dff0",
   "metadata": {},
   "outputs": [],
   "source": [
    "puma.qn"
   ]
  },
  {
   "cell_type": "code",
   "execution_count": null,
   "id": "37a85873",
   "metadata": {},
   "outputs": [],
   "source": [
    "T = puma.fkine(puma.qn);\n",
    "T.printline()"
   ]
  },
  {
   "cell_type": "code",
   "execution_count": null,
   "id": "74eb164d",
   "metadata": {},
   "outputs": [],
   "source": [
    "sol = puma.ikine_a(T)"
   ]
  },
  {
   "cell_type": "code",
   "execution_count": null,
   "id": "c281ec59",
   "metadata": {},
   "outputs": [],
   "source": [
    "sol.q"
   ]
  },
  {
   "cell_type": "code",
   "execution_count": null,
   "id": "977cc543",
   "metadata": {},
   "outputs": [],
   "source": [
    "puma.fkine(sol.q).printline()"
   ]
  },
  {
   "cell_type": "code",
   "execution_count": null,
   "id": "bbf904fb",
   "metadata": {},
   "outputs": [],
   "source": [
    "sol = puma.ikine_a(T, \"r\");\n",
    "sol.q"
   ]
  },
  {
   "cell_type": "code",
   "execution_count": null,
   "id": "c3652d69",
   "metadata": {},
   "outputs": [],
   "source": [
    "puma.ikine_a(SE3.Tx(3))"
   ]
  },
  {
   "cell_type": "code",
   "execution_count": null,
   "id": "fefcbbd6",
   "metadata": {},
   "outputs": [],
   "source": [
    "q = [0, pi/4, pi, 0.1, 0, 0.2];"
   ]
  },
  {
   "cell_type": "code",
   "execution_count": null,
   "id": "2e65e4a1",
   "metadata": {},
   "outputs": [],
   "source": [
    "puma.ikine_a(puma.fkine(q), \"ru\").q"
   ]
  },
  {
   "cell_type": "markdown",
   "id": "f3186d9a",
   "metadata": {},
   "source": [
    "### 7.2.2.2 Numerical Solution\n"
   ]
  },
  {
   "cell_type": "code",
   "execution_count": null,
   "id": "7b9bcd58",
   "metadata": {},
   "outputs": [],
   "source": [
    "T = puma.fkine(puma.qn);\n",
    "T.printline(\"rpy/xyz\")\n",
    "sol = puma.ikine_LM(T)"
   ]
  },
  {
   "cell_type": "code",
   "execution_count": null,
   "id": "38fcf064",
   "metadata": {},
   "outputs": [],
   "source": [
    "puma.qn"
   ]
  },
  {
   "cell_type": "code",
   "execution_count": null,
   "id": "6b29bcb8",
   "metadata": {},
   "outputs": [],
   "source": [
    "puma.fkine(sol.q).printline(\"rpy/xyz\")"
   ]
  },
  {
   "cell_type": "code",
   "execution_count": null,
   "id": "246f422c",
   "metadata": {},
   "outputs": [],
   "source": [
    "puma.plot(sol.q);"
   ]
  },
  {
   "cell_type": "code",
   "execution_count": null,
   "id": "fab2daa8",
   "metadata": {},
   "outputs": [],
   "source": [
    "puma.ikine_LM(T, q0=[0, 0, 3, 0, 0, 0])"
   ]
  },
  {
   "cell_type": "markdown",
   "id": "0a5ff963",
   "metadata": {},
   "source": [
    "## 7.2.3 Underactuated Manipulator\n"
   ]
  },
  {
   "cell_type": "code",
   "execution_count": null,
   "id": "472fb6de",
   "metadata": {},
   "outputs": [],
   "source": [
    "cobra = models.DH.Cobra600()"
   ]
  },
  {
   "cell_type": "code",
   "execution_count": null,
   "id": "9391604f",
   "metadata": {},
   "outputs": [],
   "source": [
    "TE = SE3.Trans(0.4, -0.3, 0.2) * SE3.RPY(np.deg2rad([30, 0, 170]), order=\"xyz\");"
   ]
  },
  {
   "cell_type": "code",
   "execution_count": null,
   "id": "76a4293c",
   "metadata": {},
   "outputs": [],
   "source": [
    "sol = cobra.ikine_LM(TE)"
   ]
  },
  {
   "cell_type": "code",
   "execution_count": null,
   "id": "f04da090",
   "metadata": {},
   "outputs": [],
   "source": [
    "sol = cobra.ikine_LM(TE, mask=[1, 1, 1, 0, 0, 1])"
   ]
  },
  {
   "cell_type": "code",
   "execution_count": null,
   "id": "35fccf74",
   "metadata": {},
   "outputs": [],
   "source": [
    "cobra.fkine(sol.q).printline(\"rpy/xyz\")"
   ]
  },
  {
   "cell_type": "code",
   "execution_count": null,
   "id": "a95598e0",
   "metadata": {},
   "outputs": [],
   "source": [
    "TE.plot(color=\"r\");\n",
    "cobra.fkine(sol.q).plot(color=\"b\");\n"
   ]
  },
  {
   "cell_type": "markdown",
   "id": "b1026eeb",
   "metadata": {},
   "source": [
    "## 7.2.4 Overactuated (Redundant) Manipulator\n"
   ]
  },
  {
   "cell_type": "code",
   "execution_count": null,
   "id": "40e220cc",
   "metadata": {},
   "outputs": [],
   "source": [
    "panda = models.ETS.Panda();"
   ]
  },
  {
   "cell_type": "code",
   "execution_count": null,
   "id": "2cc1b65b",
   "metadata": {},
   "outputs": [],
   "source": [
    "TE = SE3.Trans(0.7, 0.2, 0.1) * SE3.OA((0, 1, 0), (0, 0, -1));"
   ]
  },
  {
   "cell_type": "code",
   "execution_count": null,
   "id": "25f1cb25",
   "metadata": {},
   "outputs": [],
   "source": [
    "sol = panda.ikine_LM(TE)"
   ]
  },
  {
   "cell_type": "code",
   "execution_count": null,
   "id": "b8088ed2",
   "metadata": {},
   "outputs": [],
   "source": [
    "panda.fkine(sol.q).printline(\"angvec\")"
   ]
  },
  {
   "cell_type": "markdown",
   "id": "10519034",
   "metadata": {},
   "source": [
    "# 7.3 Trajectories\n"
   ]
  },
  {
   "cell_type": "code",
   "execution_count": null,
   "id": "c1a3b44b",
   "metadata": {},
   "outputs": [],
   "source": [
    "puma = models.DH.Puma560();"
   ]
  },
  {
   "cell_type": "markdown",
   "id": "ba31a717",
   "metadata": {},
   "source": [
    "## 7.3.1 Joint-Space Motion\n"
   ]
  },
  {
   "cell_type": "code",
   "execution_count": null,
   "id": "0a220410",
   "metadata": {},
   "outputs": [],
   "source": [
    "TE1 = SE3.Trans(0.4, -0.2, 0) * SE3.Rx(3);\n",
    "TE2 = SE3.Trans(0.4, 0.2, 0) * SE3.Rx(1);"
   ]
  },
  {
   "cell_type": "code",
   "execution_count": null,
   "id": "1ebd5ab0",
   "metadata": {},
   "outputs": [],
   "source": [
    "sol1 = puma.ikine_a(TE1, \"ru\");\n",
    "sol2 = puma.ikine_a(TE2, \"ru\");"
   ]
  },
  {
   "cell_type": "code",
   "execution_count": null,
   "id": "129c890b",
   "metadata": {},
   "outputs": [],
   "source": [
    "t = np.arange(0, 2, 0.02);"
   ]
  },
  {
   "cell_type": "code",
   "execution_count": null,
   "id": "03f70d9e",
   "metadata": {},
   "outputs": [],
   "source": [
    "traj = mtraj(quintic, sol1.q, sol2.q, t);"
   ]
  },
  {
   "cell_type": "code",
   "execution_count": null,
   "id": "15b83e3a",
   "metadata": {},
   "outputs": [],
   "source": [
    "traj = mtraj(trapezoidal, sol1.q, sol2.q, t);"
   ]
  },
  {
   "cell_type": "code",
   "execution_count": null,
   "id": "c83c52e7",
   "metadata": {},
   "outputs": [],
   "source": [
    "traj.q.shape"
   ]
  },
  {
   "cell_type": "code",
   "execution_count": null,
   "id": "ff4ae368",
   "metadata": {},
   "outputs": [],
   "source": [
    "traj = jtraj(sol1.q, sol2.q, t)"
   ]
  },
  {
   "cell_type": "code",
   "execution_count": null,
   "id": "ff2b4fa0",
   "metadata": {},
   "outputs": [],
   "source": [
    "puma.plot(traj.q);  # this animation won't display in Jupyter"
   ]
  },
  {
   "cell_type": "code",
   "execution_count": null,
   "id": "a9ca35cf",
   "metadata": {},
   "outputs": [],
   "source": [
    "xplot(t, traj.q);"
   ]
  },
  {
   "cell_type": "code",
   "execution_count": null,
   "id": "b2265f9b",
   "metadata": {},
   "outputs": [],
   "source": [
    "T = puma.fkine(traj.q);\n",
    "len(T)"
   ]
  },
  {
   "cell_type": "code",
   "execution_count": null,
   "id": "be3cba5e",
   "metadata": {},
   "outputs": [],
   "source": [
    "p = T.t; \n",
    "p.shape"
   ]
  },
  {
   "cell_type": "code",
   "execution_count": null,
   "id": "16f8fa7d",
   "metadata": {},
   "outputs": [],
   "source": [
    "xplot(t, T.t, labels=\"x y z\");"
   ]
  },
  {
   "cell_type": "code",
   "execution_count": null,
   "id": "2601b340",
   "metadata": {},
   "outputs": [],
   "source": [
    "xplot(t, T.rpy(\"xyz\"), labels=\"roll pitch yaw\");"
   ]
  },
  {
   "cell_type": "markdown",
   "id": "b810878b",
   "metadata": {},
   "source": [
    "## 7.3.2 Cartesian Motion\n"
   ]
  },
  {
   "cell_type": "code",
   "execution_count": null,
   "id": "b0b98808",
   "metadata": {},
   "outputs": [],
   "source": [
    "Ts = ctraj(TE1, TE2, t);"
   ]
  },
  {
   "cell_type": "code",
   "execution_count": null,
   "id": "a106e5df",
   "metadata": {},
   "outputs": [],
   "source": [
    "xplot(t, Ts.t, labels=\"x y z\");"
   ]
  },
  {
   "cell_type": "code",
   "execution_count": null,
   "id": "cb84821f",
   "metadata": {},
   "outputs": [],
   "source": [
    "xplot(t, Ts.rpy(\"xyz\"), labels=\"roll pitch yaw\");"
   ]
  },
  {
   "cell_type": "code",
   "execution_count": null,
   "id": "4bb951fe",
   "metadata": {},
   "outputs": [],
   "source": [
    "qc = puma.ikine_a(Ts);\n",
    "qc.q.shape"
   ]
  },
  {
   "cell_type": "markdown",
   "id": "9bde3ce3",
   "metadata": {},
   "source": [
    "## 7.3.3 Kinematics in a block diagram\n"
   ]
  },
  {
   "cell_type": "code",
   "execution_count": null,
   "id": "b41fce25",
   "metadata": {},
   "outputs": [],
   "source": [
    "if COLAB:\n",
    "  %run -m jointspace -H -g  # no graphics\n",
    "else:\n",
    "  run_shell(\"jointspace\")"
   ]
  },
  {
   "cell_type": "markdown",
   "id": "f4e02126",
   "metadata": {},
   "source": [
    "## 7.3.4 Motion through a Singularity\n"
   ]
  },
  {
   "cell_type": "code",
   "execution_count": null,
   "id": "3027a20d",
   "metadata": {},
   "outputs": [],
   "source": [
    "TE1 = SE3.Trans(0.5, -0.3, 1.12) * SE3.OA((0, 1, 0), (1, 0, 0));\n",
    "TE2 = SE3.Trans(0.5, 0.3, 1.12) * SE3.OA((0, 1, 0), (1, 0, 0)); "
   ]
  },
  {
   "cell_type": "code",
   "execution_count": null,
   "id": "bcc9ef2e",
   "metadata": {},
   "outputs": [],
   "source": [
    "Ts = ctraj(TE1, TE2, t);"
   ]
  },
  {
   "cell_type": "code",
   "execution_count": null,
   "id": "10e6a4f3",
   "metadata": {},
   "outputs": [],
   "source": [
    "sol = puma.ikine_a(Ts, \"lu\");"
   ]
  },
  {
   "cell_type": "code",
   "execution_count": null,
   "id": "dde4c734",
   "metadata": {},
   "outputs": [],
   "source": [
    "xplot(t, sol.q, unwrap=True);"
   ]
  },
  {
   "cell_type": "code",
   "execution_count": null,
   "id": "6cf91693",
   "metadata": {},
   "outputs": [],
   "source": [
    "m = puma.manipulability(sol.q);"
   ]
  },
  {
   "cell_type": "markdown",
   "id": "b7bde5fd",
   "metadata": {},
   "source": [
    "## 7.3.5 Configuration Change\n"
   ]
  },
  {
   "cell_type": "code",
   "execution_count": null,
   "id": "e2ab8b73",
   "metadata": {},
   "outputs": [],
   "source": [
    "TE = SE3.Trans(0.4, 0.2, 0.6) * SE3.Rx(pi);"
   ]
  },
  {
   "cell_type": "code",
   "execution_count": null,
   "id": "0ca16d3d",
   "metadata": {},
   "outputs": [],
   "source": [
    "sol_r = puma.ikine_a(TE, \"ru\");\n",
    "sol_l = puma.ikine_a(TE, \"lu\");"
   ]
  },
  {
   "cell_type": "code",
   "execution_count": null,
   "id": "f93cc861",
   "metadata": {},
   "outputs": [],
   "source": [
    "traj = jtraj(sol_r.q, sol_l.q, t);"
   ]
  },
  {
   "cell_type": "code",
   "execution_count": null,
   "id": "4c62165b",
   "metadata": {},
   "outputs": [],
   "source": [
    "puma.plot(traj.q);"
   ]
  },
  {
   "cell_type": "markdown",
   "id": "19e22f49",
   "metadata": {},
   "source": [
    "# 7.4 Applications\n"
   ]
  },
  {
   "cell_type": "markdown",
   "id": "45471d0d",
   "metadata": {},
   "source": [
    "## 7.4.1 Writing on a surface\n"
   ]
  },
  {
   "cell_type": "code",
   "execution_count": null,
   "id": "1c589266",
   "metadata": {},
   "outputs": [],
   "source": [
    "font = rtb_load_jsonfile(\"data/hershey.json\");"
   ]
  },
  {
   "cell_type": "code",
   "execution_count": null,
   "id": "b39bb6ab",
   "metadata": {},
   "outputs": [],
   "source": [
    "letter = font[\"B\"]"
   ]
  },
  {
   "cell_type": "code",
   "execution_count": null,
   "id": "c48a98c8",
   "metadata": {},
   "outputs": [],
   "source": [
    "lift = 0.1; # height to raise the pen\n",
    "scale = 0.25;\n",
    "via = np.empty((0, 3));\n",
    "for stroke in letter[\"strokes\"]:\n",
    "  xyz = np.array(stroke) * scale # convert stroke to nx2 array\n",
    "  xyz = np.pad(xyz, ((0, 0), (0, 1))) # add third column, z=0\n",
    "  via = np.vstack((via, xyz))  # append rows to via points\n",
    "  via = np.vstack((via, np.hstack([xyz[-1,:2], lift]))) # lift pen"
   ]
  },
  {
   "cell_type": "code",
   "execution_count": null,
   "id": "4ceb9802",
   "metadata": {},
   "outputs": [],
   "source": [
    "xyz_traj = mstraj(via, qdmax=[0.5, 0.5, 0.5], q0=[0, 0, lift], \n",
    "                  dt=0.02, tacc=0.2).q;"
   ]
  },
  {
   "cell_type": "code",
   "execution_count": null,
   "id": "ab33b5ec",
   "metadata": {},
   "outputs": [],
   "source": [
    "len(xyz_traj)"
   ]
  },
  {
   "cell_type": "code",
   "execution_count": null,
   "id": "f1db9b26",
   "metadata": {},
   "outputs": [],
   "source": [
    "len(xyz_traj) * 0.02"
   ]
  },
  {
   "cell_type": "code",
   "execution_count": null,
   "id": "35a4a56f",
   "metadata": {},
   "outputs": [],
   "source": [
    "fig = plt.figure(); ax = fig.add_subplot(111, projection=\"3d\");\n",
    "plt.plot(xyz_traj[:,0], xyz_traj[:,1], xyz_traj[:,2]);"
   ]
  },
  {
   "cell_type": "code",
   "execution_count": null,
   "id": "aef54f1c",
   "metadata": {},
   "outputs": [],
   "source": [
    "T_pen = SE3.Trans(0.6, 0, 0.7) * SE3.Trans(xyz_traj) * SE3.OA( [0, 1, 0], [0, 0, -1]);"
   ]
  },
  {
   "cell_type": "code",
   "execution_count": null,
   "id": "78788557",
   "metadata": {},
   "outputs": [],
   "source": [
    "puma = models.DH.Puma560();\n",
    "sol = puma.ikine_a(T_pen, \"lu\");"
   ]
  },
  {
   "cell_type": "code",
   "execution_count": null,
   "id": "a39943e9",
   "metadata": {},
   "outputs": [],
   "source": [
    "puma.plot(sol.q);"
   ]
  },
  {
   "cell_type": "code",
   "execution_count": null,
   "id": "4c35cb55",
   "metadata": {},
   "outputs": [],
   "source": [
    "# %run -m writing"
   ]
  },
  {
   "cell_type": "markdown",
   "id": "b4883f0e",
   "metadata": {},
   "source": [
    "## 7.4.2 A 4-Legged Walking robot\n"
   ]
  },
  {
   "cell_type": "code",
   "execution_count": null,
   "id": "a7fdc4f5",
   "metadata": {},
   "outputs": [],
   "source": [
    "mm = 0.001;  # millimeters\n",
    "L1 = 100 * mm;\n",
    "L2 = 100 * mm;"
   ]
  },
  {
   "cell_type": "code",
   "execution_count": null,
   "id": "ef4f6cf4",
   "metadata": {},
   "outputs": [],
   "source": [
    "leg = ERobot(ET.Rz() * ET.Rx() * ET.ty(-L1) * ET.Rx() * ET.tz(-L2))"
   ]
  },
  {
   "cell_type": "code",
   "execution_count": null,
   "id": "4fc44b44",
   "metadata": {},
   "outputs": [],
   "source": [
    "leg.fkine([0,0,0]).t"
   ]
  },
  {
   "cell_type": "code",
   "execution_count": null,
   "id": "3b9cdb30",
   "metadata": {},
   "outputs": [],
   "source": [
    "leg.plot([0, 0, 0]);"
   ]
  },
  {
   "cell_type": "markdown",
   "id": "6f3eb52a",
   "metadata": {},
   "source": [
    "### 7.4.2.1 Motion of One Leg\n"
   ]
  },
  {
   "cell_type": "code",
   "execution_count": null,
   "id": "53248532",
   "metadata": {},
   "outputs": [],
   "source": [
    "xf = 50; xb = -xf;  y = -50; zu = -20; zd = -50;\n",
    "via = np.array([\n",
    "  [xf, y, zd],\n",
    "  [xb, y, zd],\n",
    "  [xb, y, zu],\n",
    "  [xf, y, zu],\n",
    "  [xf, y, zd]]) * mm;"
   ]
  },
  {
   "cell_type": "code",
   "execution_count": null,
   "id": "432d228f",
   "metadata": {},
   "outputs": [],
   "source": [
    "x = mstraj(via, tsegment=[3, 0.25, 0.5, 0.25], dt=0.01, tacc=0.1).q"
   ]
  },
  {
   "cell_type": "code",
   "execution_count": null,
   "id": "dde9d2f2",
   "metadata": {},
   "outputs": [],
   "source": [
    "sol = leg.ikine_LM(SE3.Trans(x), mask=[1, 1, 1, 0, 0, 0]);"
   ]
  },
  {
   "cell_type": "code",
   "execution_count": null,
   "id": "919a3de6",
   "metadata": {},
   "outputs": [],
   "source": [
    "leg.plot(sol.q);"
   ]
  },
  {
   "cell_type": "markdown",
   "id": "09f2c768",
   "metadata": {},
   "source": [
    "### 7.4.2.2 Motion of Four Legs\n"
   ]
  },
  {
   "cell_type": "code",
   "execution_count": null,
   "id": "1081144d",
   "metadata": {},
   "outputs": [],
   "source": [
    "W = 100 * mm; L = 200 * mm;"
   ]
  },
  {
   "cell_type": "code",
   "execution_count": null,
   "id": "de0ac592",
   "metadata": {},
   "outputs": [],
   "source": [
    "Tflip = SE3.Rz(pi);\n",
    "legs = [\n",
    "  ERobot(leg, name=\"leg0\", base=SE3.Trans( L/2,  W/2, 0)),\n",
    "  ERobot(leg, name=\"leg1\", base=SE3.Trans(-L/2,  W/2, 0)),\n",
    "  ERobot(leg, name=\"leg2\", base=SE3.Trans( L/2, -W/2, 0) * Tflip),\n",
    "  ERobot(leg, name=\"leg3\", base=SE3.Trans(-L/2, -W/2, 0) * Tflip)];"
   ]
  },
  {
   "cell_type": "code",
   "execution_count": null,
   "id": "b1ac1a7c",
   "metadata": {
    "lines_to_next_cell": 1
   },
   "outputs": [],
   "source": [
    "for i in range(4000):\n",
    "  legs[0].q = gait(qcycle, i, 0, False)\n",
    "  legs[1].q = gait(qcycle, i, 100, False)\n",
    "  legs[2].q = gait(qcycle, i, 200, True)\n",
    "  legs[3].q = gait(qcycle, i, 300, True)\n",
    "env.step(dt=0.02)  # render the graphics"
   ]
  },
  {
   "cell_type": "code",
   "execution_count": null,
   "id": "944cbf27",
   "metadata": {
    "lines_to_next_cell": 1
   },
   "outputs": [],
   "source": [
    "def gait(cycle, k, phi, flip):\n",
    "  k = (k + phi) % cycle.shape[0]  # modulo addition\n",
    "  q = cycle[k, :]\n",
    "  if flip:\n",
    "    q[0] = -q[0]  # for right-side legs\n",
    "  return q"
   ]
  },
  {
   "cell_type": "code",
   "execution_count": null,
   "id": "16fb62b0",
   "metadata": {},
   "outputs": [],
   "source": [
    "%run -m walking"
   ]
  },
  {
   "cell_type": "markdown",
   "id": "cd698c8a",
   "metadata": {},
   "source": [
    "# 7.5 Advanced Topics\n"
   ]
  },
  {
   "cell_type": "markdown",
   "id": "7ab671d6",
   "metadata": {},
   "source": [
    "## 7.5.2 Creating the Kinematic Model for a Robot\n"
   ]
  },
  {
   "cell_type": "code",
   "execution_count": null,
   "id": "ea42256b",
   "metadata": {},
   "outputs": [],
   "source": [
    "L1 = 0.672; L2 = -0.2337; L3 = 0.4318;\n",
    "L4 = 0.0203; L5 = 0.0837; L6 = 0.4318;"
   ]
  },
  {
   "cell_type": "code",
   "execution_count": null,
   "id": "e938cfed",
   "metadata": {},
   "outputs": [],
   "source": [
    "e = ET.tz(L1) * ET.Rz() * ET.ty(L2) * ET.Ry() \\\n",
    "   * ET.tz(L3) * ET.tx(L4) * ET.ty(L5) * ET.Ry() \\\n",
    "   * ET.tz(L6) * ET.Rz() * ET.Ry() * ET.Rz();"
   ]
  },
  {
   "cell_type": "code",
   "execution_count": null,
   "id": "7c82b8d6",
   "metadata": {},
   "outputs": [],
   "source": [
    "robot = ERobot(e)"
   ]
  },
  {
   "cell_type": "markdown",
   "id": "5c7ba783",
   "metadata": {},
   "source": [
    "## 7.5.3 Modified Denavit-Hartenberg Parameters\n"
   ]
  },
  {
   "cell_type": "code",
   "execution_count": null,
   "id": "912c00b0",
   "metadata": {},
   "outputs": [],
   "source": [
    "L1 = RevoluteMDH(d=1)"
   ]
  },
  {
   "cell_type": "markdown",
   "id": "462c99d5",
   "metadata": {},
   "source": [
    "## 7.5.4 Products of exponentials\n"
   ]
  },
  {
   "cell_type": "code",
   "execution_count": null,
   "id": "67077079",
   "metadata": {},
   "outputs": [],
   "source": [
    "a1 = 1; a2 = 1;\n",
    "TE0 = SE2(a1 + a2, 0, 0);"
   ]
  },
  {
   "cell_type": "code",
   "execution_count": null,
   "id": "55fb33f2",
   "metadata": {},
   "outputs": [],
   "source": [
    "S0 = Twist2.UnitRevolute([0, 0]);\n",
    "S1 = Twist2.UnitRevolute([a1, 0]);"
   ]
  },
  {
   "cell_type": "code",
   "execution_count": null,
   "id": "1bf5370d",
   "metadata": {},
   "outputs": [],
   "source": [
    "TE = S0.exp(np.deg2rad(30)) * S1.exp(np.deg2rad(40)) * TE0"
   ]
  },
  {
   "cell_type": "code",
   "execution_count": null,
   "id": "acc40bed",
   "metadata": {},
   "outputs": [],
   "source": [
    "irb140 = models.DH.IRB140();\n",
    "S, TE0 = irb140.twists()\n",
    "S"
   ]
  },
  {
   "cell_type": "code",
   "execution_count": null,
   "id": "5456e9a1",
   "metadata": {},
   "outputs": [],
   "source": [
    "T = S.exp(irb140.qr).prod() * TE0"
   ]
  },
  {
   "cell_type": "code",
   "execution_count": null,
   "id": "b7236820",
   "metadata": {},
   "outputs": [],
   "source": [
    "irb140.plot(irb140.qz);"
   ]
  },
  {
   "cell_type": "code",
   "execution_count": null,
   "id": "193e1d10",
   "metadata": {},
   "outputs": [],
   "source": [
    "lines = S.line()\n",
    "lines.plot(\"k:\");"
   ]
  },
  {
   "cell_type": "code",
   "execution_count": null,
   "id": "01cdc766",
   "metadata": {},
   "outputs": [],
   "source": [
    "link1 = PoERevolute([0, 0, 1], [0, 0, 0]);  # rotate about z-axis, through (0,0,0)\n",
    "link2 = PoERevolute([0, 0, 1], [1, 0, 0]);  # rotate about z-axis, through (1,0,0)\n",
    "TE0 = SE3.Tx(2);  # end-effector pose when q=[0,0]"
   ]
  },
  {
   "cell_type": "code",
   "execution_count": null,
   "id": "9c9e647b",
   "metadata": {},
   "outputs": [],
   "source": [
    "robot = PoERobot([link1, link2], TE0)"
   ]
  },
  {
   "cell_type": "code",
   "execution_count": null,
   "id": "3fce4dbd",
   "metadata": {},
   "outputs": [],
   "source": [
    "robot.fkine([0, 0]).printline()"
   ]
  },
  {
   "cell_type": "markdown",
   "id": "ad570f11",
   "metadata": {},
   "source": [
    "## 7.5.5 Collision detection\n"
   ]
  },
  {
   "cell_type": "code",
   "execution_count": null,
   "id": "f834c8bb",
   "metadata": {},
   "outputs": [],
   "source": [
    "panda = models.URDF.Panda();"
   ]
  },
  {
   "cell_type": "code",
   "execution_count": null,
   "id": "ee87845f",
   "metadata": {},
   "outputs": [],
   "source": [
    "from spatialgeometry import Cuboid\n",
    "box = Cuboid([1, 1, 1], pose=SE3.Tx(1.1));"
   ]
  },
  {
   "cell_type": "code",
   "execution_count": null,
   "id": "62ef2561",
   "metadata": {},
   "outputs": [],
   "source": [
    "panda.iscollided(panda.qr, box)"
   ]
  },
  {
   "cell_type": "code",
   "execution_count": null,
   "id": "58304e2b",
   "metadata": {},
   "outputs": [],
   "source": [
    "box.T = SE3.Tx(0.2)\n",
    "panda.iscollided(panda.qr, box)"
   ]
  },
  {
   "cell_type": "code",
   "execution_count": null,
   "id": "85130c71",
   "metadata": {},
   "outputs": [],
   "source": [
    "# plot robot and get reference to graphics environment\n",
    "env = panda.plot(panda.qr, backend=\"swift\");  \n",
    "env.add(box);  # add box to graphics\n",
    "env.step()     # update the graphics"
   ]
  },
  {
   "cell_type": "code",
   "execution_count": null,
   "id": "eec3368d",
   "metadata": {},
   "outputs": [],
   "source": [
    "env.step()"
   ]
  }
 ],
 "metadata": {
  "jupytext": {
   "cell_metadata_filter": "-all",
   "main_language": "python",
   "notebook_metadata_filter": "-all"
  },
  "kernelspec": {
   "display_name": "Python 3 (ipykernel)",
   "language": "python",
   "name": "python3"
  },
  "language_info": {
   "codemirror_mode": {
    "name": "ipython",
    "version": 3
   },
   "file_extension": ".py",
   "mimetype": "text/x-python",
   "name": "python",
   "nbconvert_exporter": "python",
   "pygments_lexer": "ipython3",
   "version": "3.9.18"
  },
  "vscode": {
   "interpreter": {
    "hash": "b7d6b0d76025b9176285a6442c3dd6dd39bcfe7241029b7898b7106bd5e9b472"
   }
  }
 },
 "nbformat": 4,
 "nbformat_minor": 5
}
